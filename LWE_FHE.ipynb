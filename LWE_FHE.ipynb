{
  "nbformat": 4,
  "nbformat_minor": 0,
  "metadata": {
    "colab": {
      "provenance": []
    },
    "kernelspec": {
      "name": "python3",
      "display_name": "Python 3"
    },
    "language_info": {
      "name": "python"
    }
  },
  "cells": [
    {
      "cell_type": "code",
      "source": [
        "import numpy as np"
      ],
      "metadata": {
        "id": "J15Wf_VA-F0c"
      },
      "execution_count": 1,
      "outputs": []
    },
    {
      "cell_type": "code",
      "execution_count": 2,
      "metadata": {
        "id": "eZ4lYaAd9-Sy"
      },
      "outputs": [],
      "source": [
        "# Clave\n",
        "s = np.array([22, 16, 23, 8, 65, 7])"
      ]
    },
    {
      "cell_type": "code",
      "source": [
        "# Votes\n",
        "\n",
        "v_1 = np.array([0, 1, 1, 0, 1])\n",
        "v_2 = np.array([1, 1, 1, 0, 0])\n",
        "v_3 = np.array([0, 0, 1, 1, 0])\n",
        "v_4 = np.array([0, 0, 0, 0, 0])\n",
        "v_5 = np.array([0, 1, 1, 1, 1])\n",
        "\n",
        "\n",
        "# Random matrices\n",
        "\n",
        "A_1 = np.array([[38, 24, 20, 37, 34, 25], [23, 21, 1, 19, 23, 58], [30, 46, 42, 28, 6, 6], [53, 47, 11, 32, 21, 1], [28, 20, 34, 0, 42, 15]])\n",
        "A_2 = np.array([[13, 15, 14, 20, 30, 0], [42, 32, 2, 2, 47, 19], [51, 44, 8, 20, 25, 41], [52, 27, 22, 33, 8, 50], [7, 33, 27, 8, 12, 20]])\n",
        "A_3 = np.array([[32, 10, 12, 5, 9, 34], [21, 3, 56, 4, 50, 1], [37, 1, 17, 15, 45, 31], [53, 46, 53, 1, 36, 14], [8, 16, 33, 34, 24, 13]])\n",
        "A_4 = np.array([[47, 7, 57, 35, 15, 20], [21, 17, 20, 13, 44, 50], [1, 57, 46, 53, 16, 22], [5, 20, 16, 17, 45, 58], [55, 12, 37, 50, 19, 53]])\n",
        "A_5 = np.array([[4, 48, 21, 51, 36, 17], [2, 22, 35, 51, 22, 9], [9, 11, 41, 46, 37, 57], [23, 41, 43, 55, 36, 50], [15, 0, 2, 3, 6, 3]])\n",
        "\n",
        "# Random error\n",
        "\n",
        "e_1 = np.array([0.08127346053221563, 0.011708496057786243, 0.06003676574692178, 0.006653070889244573, 0.027134787891334156])\n",
        "e_2 = np.array([0.09487819404796197, 0.06595461308432185, 0.033840433016131335, 0.025084920777035957, 0.03972705691978591])\n",
        "e_3 = np.array([0.020531564498836242, 0.0014805172099405129, 0.001475273366176999, 0.002304152158329964, 0.02189886301956865])\n",
        "e_4 = np.array([0.031741728805343414, 0.057748592959366206, 0.051862133236150985, 0.07717168072399694, 0.0678522753597769])\n",
        "e_5 = np.array([0.04087436219265235, 0.011594960804839382, 0.01654284297253632, 0.061700409644471745, 0.07415613226629389])"
      ],
      "metadata": {
        "id": "ELVkN-3pDWDU"
      },
      "execution_count": 3,
      "outputs": []
    },
    {
      "cell_type": "code",
      "source": [
        "\n",
        "# b_i computation\n",
        "\n",
        "b_1 = A_1.dot(s) + e_1\n",
        "b_2 = A_2.dot(s) + e_2\n",
        "b_3 = A_3.dot(s) + e_3\n",
        "b_4 = A_4.dot(s) + e_4\n",
        "b_5 = A_5.dot(s) + e_5\n",
        "\n",
        "# Encription computation\n",
        "\n",
        "E_1 = v_1 + b_1\n",
        "E_2 = v_2 + b_2\n",
        "E_3 = v_3 + b_3\n",
        "E_4 = v_4 + b_4\n",
        "E_5 = v_5 + b_5\n"
      ],
      "metadata": {
        "id": "op6J5TsKDxMI"
      },
      "execution_count": 4,
      "outputs": []
    },
    {
      "cell_type": "code",
      "source": [
        "# Show encripted votes\n",
        "\n",
        "print(f'Vote 1 encrypted: {E_1}')\n",
        "print(f'Vote 2 encrypted: {E_2}')\n",
        "print(f'Vote 3 encrypted: {E_3}')\n",
        "print(f'Vote 4 encrypted: {E_4}')\n",
        "print(f'Vote 5 encrypted: {E_5}')\n"
      ],
      "metadata": {
        "colab": {
          "base_uri": "https://localhost:8080/"
        },
        "id": "6t602_FOFy5P",
        "outputId": "0aa2b707-026b-4f03-b86f-a403fa9b836d"
      },
      "execution_count": 5,
      "outputs": [
        {
          "output_type": "stream",
          "name": "stdout",
          "text": [
            "Vote 1 encrypted: [4361.08127346 2919.0117085  3019.06003677 3799.00665307 4554.02713479]\n",
            "Vote 2 encrypted: [2959.09487819 4687.06595461 4083.03384043 3216.02508492 2287.03972706]\n",
            "Vote 3 encrypted: [2003.02053156 5087.00148052 4484.00147527 5568.00230415 3114.02189886]\n",
            "Vote 4 encrypted: [3852.03174173 4508.05774859 3610.05186213 4265.07717168 4259.06785228]\n",
            "Vote 5 encrypted: [4206.04087436 3103.01159496 4490.01654284 5282.06170041  812.07415613]\n"
          ]
        }
      ]
    },
    {
      "cell_type": "code",
      "source": [
        "# Decryption single votes and round\n",
        "\n",
        "D_1 = E_1 - A_1.dot(s)\n",
        "for i in range(len(D_1)):\n",
        "  D_1[i] = round(D_1[i])\n",
        "D_2 = E_2 - A_2.dot(s)\n",
        "for i in range(len(D_2)):\n",
        "  D_2[i] = round(D_2[i])\n",
        "D_3 = E_3 - A_3.dot(s)\n",
        "for i in range(len(D_3)):\n",
        "  D_3[i] = round(D_3[i])\n",
        "D_4 = E_4 - A_4.dot(s)\n",
        "for i in range(len(D_4)):\n",
        "  D_4[i] = round(D_4[i])\n",
        "D_5 = E_5 - A_5.dot(s)\n",
        "for i in range(len(D_5)):\n",
        "  D_5[i] = round(D_5[i])"
      ],
      "metadata": {
        "id": "P45PeL6WGt-C"
      },
      "execution_count": 6,
      "outputs": []
    },
    {
      "cell_type": "code",
      "source": [
        "# Show decrypted votes\n",
        "\n",
        "print(f'Vote 1 decrypted: {D_1}')\n",
        "print(f'Vote 2 decrypted: {D_2}')\n",
        "print(f'Vote 3 decrypted: {D_3}')\n",
        "print(f'Vote 4 decrypted: {D_4}')\n",
        "print(f'Vote 5 decrypted: {D_5}')"
      ],
      "metadata": {
        "colab": {
          "base_uri": "https://localhost:8080/"
        },
        "id": "y8hghi9zG6m_",
        "outputId": "3507f8a7-34fc-443e-ffdc-f444c8a73e72"
      },
      "execution_count": 7,
      "outputs": [
        {
          "output_type": "stream",
          "name": "stdout",
          "text": [
            "Vote 1 decrypted: [0. 1. 1. 0. 1.]\n",
            "Vote 2 decrypted: [1. 1. 1. 0. 0.]\n",
            "Vote 3 decrypted: [0. 0. 1. 1. 0.]\n",
            "Vote 4 decrypted: [0. 0. 0. 0. 0.]\n",
            "Vote 5 decrypted: [0. 1. 1. 1. 1.]\n"
          ]
        }
      ]
    },
    {
      "cell_type": "code",
      "source": [
        "#  Sum votes\n",
        "\n",
        "count_votes = E_1 + E_2 + E_3 + E_4 + E_5\n",
        "print(count_votes)"
      ],
      "metadata": {
        "id": "4DSWgibfGDod",
        "colab": {
          "base_uri": "https://localhost:8080/"
        },
        "outputId": "598f01a4-55e4-444d-fb64-2f59d140e466"
      },
      "execution_count": 8,
      "outputs": [
        {
          "output_type": "stream",
          "name": "stdout",
          "text": [
            "[17381.26929931 20304.14848718 19686.16375745 22130.17291423\n",
            " 15026.23076912]\n"
          ]
        }
      ]
    },
    {
      "cell_type": "code",
      "source": [
        "# Decrypt sum and round\n",
        "\n",
        "decryption = count_votes - (A_1 + A_2 + A_3 + A_4 + A_5).dot(s)\n",
        "for i in range(len(decryption)):\n",
        "  decryption[i] = round(decryption[i])"
      ],
      "metadata": {
        "id": "x-ZUXAP6GONB"
      },
      "execution_count": 9,
      "outputs": []
    },
    {
      "cell_type": "code",
      "source": [
        "# Contrast\n",
        "\n",
        "print(f'Decrypted sum: \\t{decryption}')\n",
        "print(f'Real sum: \\t{v_1 + v_2 + v_3 + v_4 + v_5}')"
      ],
      "metadata": {
        "colab": {
          "base_uri": "https://localhost:8080/"
        },
        "id": "92NWWFTMGSeZ",
        "outputId": "7a18424a-d9d2-4d73-da8f-2782f2f8fa52"
      },
      "execution_count": 10,
      "outputs": [
        {
          "output_type": "stream",
          "name": "stdout",
          "text": [
            "Decrypted sum: \t[1. 3. 4. 2. 2.]\n",
            "Real sum: \t[1 3 4 2 2]\n"
          ]
        }
      ]
    }
  ]
}
