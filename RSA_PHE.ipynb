{
  "nbformat": 4,
  "nbformat_minor": 0,
  "metadata": {
    "colab": {
      "provenance": []
    },
    "kernelspec": {
      "name": "python3",
      "display_name": "Python 3"
    },
    "language_info": {
      "name": "python"
    }
  },
  "cells": [
    {
      "cell_type": "code",
      "execution_count": 69,
      "metadata": {
        "id": "A8pLd3dpn1G9"
      },
      "outputs": [],
      "source": [
        "# Elegimos los valores primos altos para poder hacer varios operaciones homomórficas\n",
        "p = 1521547\n",
        "q = 15215873249\n",
        "n = p * q\n",
        "phi = (p - 1) * (q - 1)\n",
        "\n",
        "# Obtenemos e, d\n",
        "e = 687312671\n",
        "d = 15965291410354271\n",
        "\n",
        "# Guardamos las claves como tuplas\n",
        "public_key = (n, e)\n",
        "private_key = (n, d)\n",
        "\n",
        "# Función de encriptación RSA\n",
        "def enc(message, public_key):\n",
        "  return pow(message, public_key[1], public_key[0])\n",
        "\n",
        "# Función de desencriptación RSA\n",
        "def dec(ciphertext, private_key):\n",
        "  return pow(ciphertext, private_key[1], private_key[0])\n"
      ]
    },
    {
      "cell_type": "code",
      "source": [
        "# Creamos la la lista con elementos que encriptaremos para luego multiplicar\n",
        "to_multiply = [2, 3, 4, 5, 6, 1918, 191, 11, 99, 81, 76]\n",
        "enc_to_multiply = [enc(elem, public_key) for elem in to_multiply]\n",
        "\n",
        "# Definimos los productos\n",
        "enc_prod = 1\n",
        "prod = 1\n",
        "\n",
        "for enc_elem, elem in zip(enc_to_multiply, to_multiply):\n",
        "  enc_prod *= enc_elem\n",
        "  prod *= elem\n",
        "\n",
        "# Mostramos como el resultado es correcto\n",
        "print(f'Lista con mensajes cifrados:\\t{enc_to_multiply}')\n",
        "print(f'Lista con mensajes sin cifrar:\\t{to_multiply}')\n",
        "print()\n",
        "\n",
        "print(f'Valor encriptado:\\t{enc_prod}')\n",
        "print(f'Valor desencriptado:\\t{dec(enc_prod, private_key)}')\n",
        "print(f'Valor real:\\t\\t{prod}')"
      ],
      "metadata": {
        "colab": {
          "base_uri": "https://localhost:8080/"
        },
        "id": "8HYlNjpSrJy3",
        "outputId": "d7953111-fa63-45da-d77c-1af3200f5342"
      },
      "execution_count": 70,
      "outputs": [
        {
          "output_type": "stream",
          "name": "stdout",
          "text": [
            "Lista con mensajes cifrados:\t[8953382508327587, 21759328160422756, 21241638463323014, 2306258301047364, 17888628523166545, 13833953643307330, 22825100318690288, 17630869954725753, 18359410006865610, 22116624070812237, 2098203019072373]\n",
            "Lista con mensajes sin cifrar:\t[2, 3, 4, 5, 6, 1918, 191, 11, 99, 81, 76]\n",
            "\n",
            "Valor encriptado:\t809773282077460853821785926301592120847652753652457743558835317640140965658223336220047560044090490290443936021664168893543786925906395382941587927210168840388425032314588928000\n",
            "Valor desencriptado:\t1768238968890240\n",
            "Valor real:\t\t1768238968890240\n"
          ]
        }
      ]
    }
  ]
}